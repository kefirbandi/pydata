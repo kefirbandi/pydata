{
 "cells": [
  {
   "cell_type": "markdown",
   "metadata": {},
   "source": [
    "# Introduction\n",
    "Numpy gives the foundation of efficient numerical computing in Python. It defines an efficient data structure (numpy array) and several algorithms. Numpy is the basis for other numerical Python packages, which all rely on the numpy datastructure. \n",
    "\n",
    "* **pandas**: provides a 2-dimensional \"table\", called as DataFrame, where rows and columns can be labelled with names (index). Provides simple export/import to Excel, SQL, ...\n",
    "* **xarray**: N-dimensional generalization of pandas. Provides named dimensions and named coordinates along each dimension\n",
    "* **scipy**: Some more algorithms\n",
    "\n",
    "$\\newcommand{\\task}{\\large \\textbf{TASK}}\n",
    "\\newcommand{\\note}{\\large \\textbf{NOTE!}}$\n",
    "\n",
    "<h1 id=\"tocheading\">Table of Contents</h1>\n",
    "<div id=\"toc\"></div>\n",
    "\n",
    "Numpy is generally imported as:"
   ]
  },
  {
   "cell_type": "code",
   "execution_count": null,
   "metadata": {},
   "outputs": [],
   "source": [
    "import numpy as np"
   ]
  },
  {
   "cell_type": "markdown",
   "metadata": {},
   "source": [
    "# Arrays and basic array manipulations\n",
    "The basic datastructure is the N-dimensional array (N:0 .. $\\infty$) . It allows for vectorized operations as will be detailed in this tutorial.\n",
    "\n",
    "## Creating an array\n",
    "There are several ways to create Numpy arrays. A few of these are presented below.\n",
    "\n",
    "### From (nested) Python lists."
   ]
  },
  {
   "cell_type": "code",
   "execution_count": null,
   "metadata": {},
   "outputs": [],
   "source": [
    "a=np.array([[1,2,3],[4,5,6],[7,8,9]])\n",
    "a"
   ]
  },
  {
   "cell_type": "markdown",
   "metadata": {},
   "source": [
    "The dimensionality (shape) of an array is stored in the \"shape\" attribute:"
   ]
  },
  {
   "cell_type": "code",
   "execution_count": null,
   "metadata": {},
   "outputs": [],
   "source": [
    "a.shape"
   ]
  },
  {
   "cell_type": "markdown",
   "metadata": {},
   "source": [
    "### Array constructors\n",
    "\n",
    "Arrays can be created by specifying the dimensions and pre-filled with certain values."
   ]
  },
  {
   "cell_type": "code",
   "execution_count": null,
   "metadata": {},
   "outputs": [],
   "source": [
    "a_0 = np.zeros([2,3])\n",
    "a_1 = np.ones([2,3])\n",
    "a_empty = np.empty([2,3])\n",
    "display(a_0)\n",
    "display(a_1),\n",
    "display(a_empty)"
   ]
  },
  {
   "cell_type": "markdown",
   "metadata": {},
   "source": [
    "$\\note$\n",
    "Empty arrays are not pre-initialized, they contain whatever garbage was found at the allocated memory."
   ]
  },
  {
   "cell_type": "markdown",
   "metadata": {},
   "source": [
    "$\\task$\n",
    "Create a 3*4 array initialized with proper random numbers. (Hint: Google)\n"
   ]
  },
  {
   "cell_type": "code",
   "execution_count": null,
   "metadata": {},
   "outputs": [],
   "source": [
    "a_random = '?'\n",
    "a_random"
   ]
  },
  {
   "cell_type": "markdown",
   "metadata": {},
   "source": [
    "Select the hidden text below to highlight solution.\n",
    "\n",
    "<span style=\"color:white\">np.random.random([3,4])</span>"
   ]
  },
  {
   "cell_type": "markdown",
   "metadata": {},
   "source": [
    "## Array slicing, selection\n",
    "Array indexing is similar to standard Python list indexing."
   ]
  },
  {
   "cell_type": "code",
   "execution_count": null,
   "metadata": {},
   "outputs": [],
   "source": [
    "a_1dim=np.arange(10) # numpy equivalent of range\n",
    "display(a_1dim)\n",
    "display(a_1dim[3])\n",
    "display(a_1dim[3:])"
   ]
  },
  {
   "cell_type": "markdown",
   "metadata": {},
   "source": [
    "Works also in N-dimension.\n",
    "\n",
    "$\\task$\n",
    "\n",
    "can you guess the shape of the following \"arrays\":\n",
    "* a[2,1]\n",
    "* a[2,1:]\n",
    "* a[:,0]\n",
    "* a[:,:1],\n",
    "\n",
    "where a is defined as above (`a=np.array([[1,2,3],[4,5,6],[7,8,9]])`) ?\n",
    "\n",
    "Execute the following cell for solution"
   ]
  },
  {
   "cell_type": "code",
   "execution_count": null,
   "metadata": {},
   "outputs": [],
   "source": [
    "display(a)\n",
    "display(a[2,1])\n",
    "display(a[2,1:])\n",
    "display(a[:,0])\n",
    "display(a[:,:1])"
   ]
  },
  {
   "cell_type": "markdown",
   "metadata": {},
   "source": [
    "## Array value modification\n",
    "\n",
    "Selected value can be used as an \"lvalue\":"
   ]
  },
  {
   "cell_type": "code",
   "execution_count": null,
   "metadata": {},
   "outputs": [],
   "source": [
    "a[1,1] = 999\n",
    "a"
   ]
  },
  {
   "cell_type": "code",
   "execution_count": null,
   "metadata": {},
   "outputs": [],
   "source": [
    "a[0,:]=[5,6,7]\n",
    "a"
   ]
  },
  {
   "cell_type": "markdown",
   "metadata": {},
   "source": [
    "$\\note$ \n",
    "Array selection creates a reference to the original sub-array"
   ]
  },
  {
   "cell_type": "code",
   "execution_count": null,
   "metadata": {},
   "outputs": [],
   "source": [
    "a_selection = a[2,:]"
   ]
  },
  {
   "cell_type": "markdown",
   "metadata": {},
   "source": [
    "$\\task$\n",
    "\n",
    "Set the last row of array \"a\" to [111, 222, 333] using only \"a_selection\""
   ]
  },
  {
   "cell_type": "code",
   "execution_count": null,
   "metadata": {},
   "outputs": [],
   "source": [
    "# ... a_selection ...\n",
    "a"
   ]
  },
  {
   "cell_type": "markdown",
   "metadata": {},
   "source": [
    "Select the below text for solution.\n",
    "\n",
    "<span style=\"color:white\">a_selection[:] = [111,222,333]</span>"
   ]
  },
  {
   "cell_type": "markdown",
   "metadata": {},
   "source": [
    "## Reshaping arrays\n",
    "Arrays can be reshaped, as long as the size doesn't change. Examine the following examples, and try to guess the results. "
   ]
  },
  {
   "cell_type": "code",
   "execution_count": null,
   "metadata": {},
   "outputs": [],
   "source": [
    "display(a.reshape(1,9))\n",
    "display(a.reshape(9,1))\n",
    "display(a.reshape(9))\n",
    "display(a.reshape(9).reshape([3,3],order='C'))\n",
    "display(a.reshape(9).reshape([3,3],order='F'))\n",
    "display(a.reshape(3,1,3))\n",
    "display(a.reshape(8)) # no-no"
   ]
  },
  {
   "cell_type": "markdown",
   "metadata": {},
   "source": [
    "### Using np.newaxis to shape arrays"
   ]
  },
  {
   "cell_type": "code",
   "execution_count": null,
   "metadata": {},
   "outputs": [],
   "source": [
    "a[:,np.newaxis,2]"
   ]
  },
  {
   "cell_type": "raw",
   "metadata": {},
   "source": [
    "Sometimes you may see that \"None\" is used in place of np.newaxis. This is expected behaviour, since"
   ]
  },
  {
   "cell_type": "code",
   "execution_count": null,
   "metadata": {},
   "outputs": [],
   "source": [
    "np.newaxis is None"
   ]
  },
  {
   "cell_type": "raw",
   "metadata": {},
   "source": [
    "However, code is more readable when np.newaxis is used, and is therefore the recommended practice."
   ]
  },
  {
   "cell_type": "markdown",
   "metadata": {},
   "source": [
    "### Using numpy.transpose to swap array dimensions\n",
    "\n",
    "For 2-dimensional arrays the numpy.transpose function implements the traditional matrix transpose:"
   ]
  },
  {
   "cell_type": "code",
   "execution_count": null,
   "metadata": {},
   "outputs": [],
   "source": [
    "display(np.transpose(a))\n",
    "# Can also apply a shorter notation\n",
    "display(a.T)"
   ]
  },
  {
   "cell_type": "markdown",
   "metadata": {},
   "source": [
    "For higher dimensional arrays, numpy.transpose reverses the order of the dimensions:"
   ]
  },
  {
   "cell_type": "code",
   "execution_count": null,
   "metadata": {},
   "outputs": [],
   "source": [
    "np.transpose(np.empty([1,2,3])).shape"
   ]
  },
  {
   "cell_type": "markdown",
   "metadata": {},
   "source": [
    "However, you can explicitly specify the new order of the dimensions.\n",
    "\n",
    "$\\task$ Can you guess the output of the below line? Try to find out before executing\n",
    "\n"
   ]
  },
  {
   "cell_type": "code",
   "execution_count": null,
   "metadata": {},
   "outputs": [],
   "source": [
    "np.transpose(np.empty([1,2,3]),[2,0,1]).shape"
   ]
  },
  {
   "cell_type": "markdown",
   "metadata": {},
   "source": [
    "## Combining arrays"
   ]
  },
  {
   "cell_type": "code",
   "execution_count": null,
   "metadata": {},
   "outputs": [],
   "source": [
    "#Note, that we supply a list to the concatenation function!\n",
    "np.concatenate([np.array([1,2,3]),np.array([4,5])])"
   ]
  },
  {
   "cell_type": "code",
   "execution_count": null,
   "metadata": {},
   "outputs": [],
   "source": [
    "#For higher dimensions, specify concatenation axis\n",
    "np.concatenate([np.ones([3,2]),np.zeros([3,3])],axis=1)"
   ]
  },
  {
   "cell_type": "markdown",
   "metadata": {},
   "source": [
    "There are other similar functions, like `hstack`, `vstack`, `append`, `stack`, etc.\n",
    "These are mostly wrappers around `concatenate`"
   ]
  },
  {
   "cell_type": "markdown",
   "metadata": {},
   "source": [
    "# Array arithmetics\n",
    "We now know how to create/transform/slice arrays. Time for some calculations.\n",
    "\n",
    "## Pointwise calculations. \n",
    "Note, that all unary, binary, etc. functions on arrays are performed element-wise! An array is NOT a matrix."
   ]
  },
  {
   "cell_type": "code",
   "execution_count": null,
   "metadata": {},
   "outputs": [],
   "source": [
    "a_2 = np.ones([3,3])\n",
    "display(a)\n",
    "display(a + a_2)"
   ]
  },
  {
   "cell_type": "code",
   "execution_count": null,
   "metadata": {},
   "outputs": [],
   "source": [
    "display(a * a_2)\n",
    "display(np.sin(a_2))\n",
    "display(np.exp(a_2))"
   ]
  },
  {
   "cell_type": "markdown",
   "metadata": {},
   "source": [
    "## Calculations with scalar values work as expected"
   ]
  },
  {
   "cell_type": "code",
   "execution_count": null,
   "metadata": {},
   "outputs": [],
   "source": [
    "display(2*a_2)\n",
    "display(a_2+2)\n"
   ]
  },
  {
   "cell_type": "markdown",
   "metadata": {},
   "source": [
    "## Numpy broadcast\n",
    "Broadcasting is a generalization of scalar operations in higher dimensions. It is a numpy feature which allows element-wise arithmetic on two arrays with different, but \"compatible\" shapes. Let's see an example:"
   ]
  },
  {
   "cell_type": "code",
   "execution_count": null,
   "metadata": {},
   "outputs": [],
   "source": [
    "b_13 = np.arange(1,4).reshape([1,3])\n",
    "b_31 = np.arange(1,4).reshape([3,1])\n",
    "b_13+b_31"
   ]
  },
  {
   "cell_type": "markdown",
   "metadata": {},
   "source": [
    "In this case the two arrays had the same number of dimensions. For each dimension it holds, that either\n",
    "\n",
    "1. they are equal, or\n",
    "2. one of them is 1\n",
    "\n",
    "In this case the \"1-dimensions\" are *stretched* resulting in an array with the maximum size along each dimension of the input arrays. Broadcasting works also in higher dimensions.\n",
    "It is not required for the two arrays to have the same number of dimensions. In this case the array with the smaller number of dimensions is prepended with dimensions of size 1 to match the dimensionality of the other array.\n",
    "\n",
    "For example, performing element-wise operation on A: (3,4,5) and B: (5) is equivalent to performing the operation\n",
    "on A and B.reshape([1,1,5])"
   ]
  },
  {
   "cell_type": "code",
   "execution_count": null,
   "metadata": {},
   "outputs": [],
   "source": [
    "A=np.ones([3,4,5])\n",
    "B=np.arange(5)\n",
    "A+B"
   ]
  },
  {
   "cell_type": "markdown",
   "metadata": {},
   "source": [
    "## aggregate functions (sum, mean, prod, min, max, etc.)"
   ]
  },
  {
   "cell_type": "code",
   "execution_count": null,
   "metadata": {},
   "outputs": [],
   "source": [
    "display(a)\n",
    "display(a.sum())\n",
    "display(a.sum(axis=0))\n",
    "display(a.sum(axis=1))\n"
   ]
  },
  {
   "cell_type": "markdown",
   "metadata": {},
   "source": [
    "Unless instructed otherwise, aggregation functions \"squeeze\" the array along the given dimension, reducing the dimensionality by one. Most of the numpy array methods (not just the aggregates) have module-level function equivalents:"
   ]
  },
  {
   "cell_type": "code",
   "execution_count": null,
   "metadata": {},
   "outputs": [],
   "source": [
    "np.sum(a,axis=0)"
   ]
  },
  {
   "cell_type": "markdown",
   "metadata": {},
   "source": [
    "Numpy function can also work (in most cases) on Python lists"
   ]
  },
  {
   "cell_type": "code",
   "execution_count": null,
   "metadata": {},
   "outputs": [],
   "source": [
    "np.sum([1,2,3])"
   ]
  },
  {
   "cell_type": "markdown",
   "metadata": {},
   "source": [
    "## max vs. maximum\n",
    "`max` (same as `amax`) operates within an array, while `maximum` compares two, compatible arrays"
   ]
  },
  {
   "cell_type": "code",
   "execution_count": null,
   "metadata": {},
   "outputs": [],
   "source": [
    "np.max(np.array([1,2,3]))"
   ]
  },
  {
   "cell_type": "code",
   "execution_count": null,
   "metadata": {},
   "outputs": [],
   "source": [
    "np.maximum(np.array([1,2,3]),np.array([3,2,1]))"
   ]
  },
  {
   "cell_type": "markdown",
   "metadata": {},
   "source": [
    "numpy.maximum has other uses cases as well:"
   ]
  },
  {
   "cell_type": "code",
   "execution_count": null,
   "metadata": {},
   "outputs": [],
   "source": [
    "np.maximum.accumulate([2,3,1,3,7])"
   ]
  },
  {
   "cell_type": "markdown",
   "metadata": {},
   "source": [
    "# Vector and Matrix algebra\n",
    "\n",
    "We have seen examples for array element-wise operations. But by now Matlab-folks surely have a few questions in mind:\n",
    "\n",
    "1. That's all nice, but what about matrix multiplication?\n",
    "1. Or vector inner product?\n",
    "1. How do we distinguish between a row-vector and a column-vector? Which one is created by default?\n",
    "\n",
    "We deal with such questions in this section.\n",
    "\n",
    "Let's start with a bit of explanation: the numpy array does not directly map to any of the standard linear algebra structures, such as matrix or vector. There is a good reason it is called an \"array\". It doesn't mean that there is no support for the standard operations, but one needs to understand the logic to apply these correctly.\n",
    "\n",
    "Let's take a **vector**, for example. In mathematics, we talk about row-vectors and column-vectors, both being 1-dimensional structures. One can use the \"transpose\" operator to go back and forth between them. But looking closely at them, one can conclude that a row-vector and a column-vector is really a short-hand notation for a 1\\*m, and an m\\*1 matrix respectively. For this reason **numpy does not introduce a \"vector\" object**.\n",
    "\n",
    "Numpy does have a **matrix** object. It is a two dimensional structure and provides a representation of the abstract matrix structure of linear algebra. For example, it supports conjugation, inverse (when invertible) and the multiplication operator is overloaded to perform the matrix multiplication.\n",
    "\n",
    "Later we will say a few more words about `numpy.matrix`, but before that we will examine how linear algebra operations can be performed using standard numpy.ndarray objects.\n",
    "\n",
    "## .dot\n",
    "The `numpy.dot` function (also available as array method) performs matrix multiplication, or vector inner product based on the shape of its argumens."
   ]
  },
  {
   "cell_type": "code",
   "execution_count": null,
   "metadata": {},
   "outputs": [],
   "source": [
    "# If both are one-dimensional, the inner product is calculated\n",
    "v1=np.arange(5)\n",
    "v1.dot(v1)"
   ]
  },
  {
   "cell_type": "code",
   "execution_count": null,
   "metadata": {},
   "outputs": [],
   "source": [
    "# If both are two-dimensional, a matrix product is calculated\n",
    "row = v1.reshape([1,5])\n",
    "column = v1.reshape([5,1])\n",
    "display(row.dot(column))\n",
    "display(column.dot(row))"
   ]
  },
  {
   "cell_type": "markdown",
   "metadata": {
    "collapsed": true
   },
   "source": [
    "`.dot` can handle cases when one of the arguments is one-dimensional, and the other is two-dimensional. In such cases it behaves as expected from matrix algebra. The result is one-dimensional. (Note: `np.eye` returns the identity matrix)"
   ]
  },
  {
   "cell_type": "code",
   "execution_count": null,
   "metadata": {},
   "outputs": [],
   "source": [
    "np.array([1,2,3]).dot(np.eye(3))"
   ]
  },
  {
   "cell_type": "code",
   "execution_count": null,
   "metadata": {},
   "outputs": [],
   "source": [
    "np.eye(3).dot(np.array([1,2,3]))"
   ]
  },
  {
   "cell_type": "markdown",
   "metadata": {},
   "source": [
    ".dot can also work in higher dimensions, but can be challenging to parametrize and use properly. See the documentation for details.\n",
    "\n",
    "In most cases you probably would rather use `numpy.multiply` or the `@` operator to perform parallel matrix multiplication."
   ]
  },
  {
   "cell_type": "markdown",
   "metadata": {},
   "source": [
    "## numpy.multiply\n",
    "\n",
    "`numpy.multpiply` or (`@`) is another form of matrix multiplication. Its real advantage presents itself in higher dimensions. It allows you to perform matrix multiplacation on a bunch of matrices in parallel, without turning to for-loops.\n",
    "\n",
    "Let's see an example:\n"
   ]
  },
  {
   "cell_type": "code",
   "execution_count": null,
   "metadata": {},
   "outputs": [],
   "source": [
    "A=np.random.random([10,3,5])\n",
    "B=np.random.random([10,5,2])\n",
    "C1 = A @ B\n",
    "C2 = np.empty([10,3,2])\n",
    "for i in range(10):\n",
    "    C2[i,...] = A[i,...].dot(B[i,...])\n",
    "\n",
    "(C1 == C2).all()"
   ]
  },
  {
   "cell_type": "markdown",
   "metadata": {},
   "source": [
    "What `numpy.multiple` does is doing the for-loop in the first n-2 dimensions and then performing the matrix multiplication in the last 2 dimensions. Notes:\n",
    "\n",
    "$\\note$\n",
    "\n",
    "Apart from the well-known rule for matrix multplication, namely that\n",
    "`A.shape[-1] == B.shape[-2]`, The usual broadcasting rules apply:\n",
    "\n",
    "* If the operands have the same dimensionality then they have to agree in (the last but 2) axis, or one of the arrays hase to have an extent of one along the non-matching axes.\n",
    "* If one of the operands has a lower dimensions, it is prepended with ones to match.\n",
    "\n",
    "$\\note$\n",
    "\n",
    "Keeping track of axes in higher dimensions is demanding and error-prone. The `xarray` package addresses this problem by allowing the assignement of names to the axes."
   ]
  },
  {
   "cell_type": "markdown",
   "metadata": {},
   "source": [
    "## numpy.matrix\n",
    "As mentioned above, numpy does have a matrix class, which behaves as one would expect from a matrix:"
   ]
  },
  {
   "cell_type": "code",
   "execution_count": null,
   "metadata": {},
   "outputs": [],
   "source": [
    "m=np.matrix([[1,2],[3,4]])\n",
    "m2 = np.matrix([[1,0],[1,1]])\n",
    "display(m)\n",
    "display(m2)\n",
    "display(m*m2)\n",
    "# Matrix inverse:\n",
    "display(m.I)\n",
    "display(m*m.I)\n"
   ]
  },
  {
   "cell_type": "markdown",
   "metadata": {},
   "source": [
    "## A bit of linear algebra: lstsq\n",
    "\n",
    "If you came across linear regression before, you probably have seen some formula like this one: $(X^{'}X)^{-1}X^{'}Y$\n",
    "You probably also know the very first thing that you don't do with it: (<span style=\"color:white\">invert the matrix.</span>) Instead you use `lstsq`."
   ]
  },
  {
   "cell_type": "code",
   "execution_count": null,
   "metadata": {},
   "outputs": [],
   "source": [
    "from scipy.linalg import lstsq\n",
    "# There is also a numpy.linalg.lstsq, which uses the same algorithm, but has a different interface\n",
    "X=np.array([[1,0],[1,1],[0,1]])\n",
    "X=np.concatenate([np.ones([10,1]),np.arange(10).reshape([10,1])],1)\n",
    "b_orig = np.array([[2],[1.5]])\n",
    "Y= X.dot(b_orig)+3*(np.random.random([10,1])-0.5)\n",
    "b_reconstructed=lstsq(X.T.dot(X),X.T.dot(Y))[0]\n",
    "b_reconstructed\n"
   ]
  },
  {
   "cell_type": "code",
   "execution_count": null,
   "metadata": {},
   "outputs": [],
   "source": [
    "%matplotlib inline\n",
    "import matplotlib.pyplot as plt\n",
    "plt.plot(X[:,1],Y[:,0],'*')\n",
    "fit_X = X[[0,-1],:]\n",
    "fit_Y = fit_X.dot(b_reconstructed)\n",
    "fit_Y\n",
    "plt.plot(fit_X[:,1],fit_Y)"
   ]
  },
  {
   "cell_type": "markdown",
   "metadata": {},
   "source": [
    "Numpy and scipy have many numerical algorithms implemented (=created wrappers arond C/Fortran routines)."
   ]
  },
  {
   "cell_type": "markdown",
   "metadata": {},
   "source": [
    "# Boolean indexing\n",
    "At the beginning we talked about how to select values from array, or in other words how to index arrays.\n",
    "In the example right above we used a slightly more complex indexing, whereby we used Python lists as index values. There is a third type of indexing: the boolean indexing, where we can choose for each value to be included or not."
   ]
  },
  {
   "cell_type": "code",
   "execution_count": null,
   "metadata": {},
   "outputs": [],
   "source": [
    "a10=np.arange(10)\n",
    "good_values = (a10>3) & ((a10 % 2) == 1) \n",
    "display(good_values)\n",
    "display(a10[good_values])"
   ]
  },
  {
   "cell_type": "markdown",
   "metadata": {},
   "source": [
    "# dtype, astype"
   ]
  },
  {
   "cell_type": "code",
   "execution_count": null,
   "metadata": {},
   "outputs": [],
   "source": [
    "%%javascript\n",
    "$.getScript('https://kmahelona.github.io/ipython_notebook_goodies/ipython_notebook_toc.js')"
   ]
  },
  {
   "cell_type": "code",
   "execution_count": null,
   "metadata": {},
   "outputs": [],
   "source": []
  }
 ],
 "metadata": {
  "kernelspec": {
   "display_name": "Python 3",
   "language": "python",
   "name": "python3"
  },
  "language_info": {
   "codemirror_mode": {
    "name": "ipython",
    "version": 3
   },
   "file_extension": ".py",
   "mimetype": "text/x-python",
   "name": "python",
   "nbconvert_exporter": "python",
   "pygments_lexer": "ipython3",
   "version": "3.6.7"
  }
 },
 "nbformat": 4,
 "nbformat_minor": 2
}
